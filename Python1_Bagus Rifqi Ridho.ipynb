{
 "cells": [
  {
   "cell_type": "markdown",
   "id": "09eafcff",
   "metadata": {},
   "source": [
    "# Tugas AI4S Python1"
   ]
  },
  {
   "cell_type": "markdown",
   "id": "46ecf119",
   "metadata": {},
   "source": [
    "# Soal 1"
   ]
  },
  {
   "cell_type": "markdown",
   "id": "20e731be",
   "metadata": {},
   "source": [
    "Segitiga"
   ]
  },
  {
   "cell_type": "code",
   "execution_count": 5,
   "id": "0dec3823",
   "metadata": {},
   "outputs": [
    {
     "name": "stdout",
     "output_type": "stream",
     "text": [
      "Input Nilai Alas : 3\n",
      "Input Nilai Tinggi : 5\n",
      "Input Nilai Sisi 1 : 3\n",
      "Input Nilai Sisi 2 : 5\n",
      "Input Nilai Sisi 3 : 7\n",
      "Luas Segitiga : 7.5 cm2\n",
      "Keliling Segitiga : 15.0 cm\n"
     ]
    }
   ],
   "source": [
    "alas = float(input(\"Input Nilai Alas : \"))\n",
    "tinggi = float(input(\"Input Nilai Tinggi : \"))\n",
    "a = float(input(\"Input Nilai Sisi 1 : \"))\n",
    "b = float(input(\"Input Nilai Sisi 2 : \"))\n",
    "c = float(input(\"Input Nilai Sisi 3 : \"))\n",
    "\n",
    "luas = 0.5 * alas * tinggi\n",
    "keliling = a + b + c\n",
    "\n",
    "print(f\"Luas Segitiga : {luas} cm2\")\n",
    "print(f\"Keliling Segitiga : {keliling} cm\")"
   ]
  },
  {
   "cell_type": "markdown",
   "id": "e8840fcc",
   "metadata": {},
   "source": [
    "Persegi"
   ]
  },
  {
   "cell_type": "code",
   "execution_count": 7,
   "id": "0ebdb840",
   "metadata": {},
   "outputs": [
    {
     "name": "stdout",
     "output_type": "stream",
     "text": [
      "Input Nilai Sisi : 5\n",
      "Luas Persegi : 25.0 cm2\n",
      "Keliling Persegi : 20.0 cm\n"
     ]
    }
   ],
   "source": [
    "s = float(input(\"Input Nilai Sisi : \"))\n",
    "\n",
    "luas = s * s\n",
    "keliling = 4 * s\n",
    "\n",
    "print(f\"Luas Persegi : {luas} cm2\")\n",
    "print(f\"Keliling Persegi : {keliling} cm\")"
   ]
  },
  {
   "cell_type": "markdown",
   "id": "e3c6cdd0",
   "metadata": {},
   "source": [
    "Persegi Panjang"
   ]
  },
  {
   "cell_type": "code",
   "execution_count": 8,
   "id": "1c707e09",
   "metadata": {},
   "outputs": [
    {
     "name": "stdout",
     "output_type": "stream",
     "text": [
      "Input Nilai Panjang : 5\n",
      "Input Nilai Lebar : 3\n",
      "Luas Persegi Panjang : 15.0 cm2\n",
      "Keliling Persegi Panjang : 16.0 cm\n"
     ]
    }
   ],
   "source": [
    "p = float(input(\"Input Nilai Panjang : \"))\n",
    "l = float(input(\"Input Nilai Lebar : \"))\n",
    "\n",
    "luas = p * l\n",
    "keliling = 2 * (p + l)\n",
    "\n",
    "print(f\"Luas Persegi Panjang : {luas} cm2\")\n",
    "print(f\"Keliling Persegi Panjang : {keliling} cm\")"
   ]
  },
  {
   "cell_type": "markdown",
   "id": "260aba9d",
   "metadata": {},
   "source": [
    "Jajar Genjang"
   ]
  },
  {
   "cell_type": "code",
   "execution_count": 9,
   "id": "90c8fc8d",
   "metadata": {},
   "outputs": [
    {
     "name": "stdout",
     "output_type": "stream",
     "text": [
      "Input Nilai Alas : 10\n",
      "Input Nilai Tinggi : 5\n",
      "Input Nilai Sisi Miring : 7\n",
      "Luas Jajar Genjang : 50.0 cm2\n",
      "Keliling Jajar Genjang : 34.0 cm\n"
     ]
    }
   ],
   "source": [
    "alas = float(input(\"Input Nilai Alas : \"))\n",
    "tinggi = float(input(\"Input Nilai Tinggi : \"))\n",
    "miring = float(input(\"Input Nilai Sisi Miring : \"))\n",
    "\n",
    "luas = alas * tinggi\n",
    "keliling = 2 * (alas + miring)\n",
    "\n",
    "print(f\"Luas Jajar Genjang : {luas} cm2\")\n",
    "print(f\"Keliling Jajar Genjang : {keliling} cm\")"
   ]
  },
  {
   "cell_type": "markdown",
   "id": "573375ae",
   "metadata": {},
   "source": [
    "# Soal 2"
   ]
  },
  {
   "cell_type": "markdown",
   "id": "847f5698",
   "metadata": {},
   "source": [
    "Kubus"
   ]
  },
  {
   "cell_type": "code",
   "execution_count": 10,
   "id": "f23267c3",
   "metadata": {},
   "outputs": [
    {
     "name": "stdout",
     "output_type": "stream",
     "text": [
      "Input Nilai Panjang Rusuk : 5\n",
      "Luas Kubus : 150.0 cm2\n",
      "Volume Kubus : 125.0 cm\n"
     ]
    }
   ],
   "source": [
    "r = float(input(\"Input Nilai Panjang Rusuk : \"))\n",
    "\n",
    "luas = 6 * r * r\n",
    "volume = r * r * r\n",
    "\n",
    "print(f\"Luas Kubus : {luas} cm2\")\n",
    "print(f\"Volume Kubus : {volume} cm\")"
   ]
  },
  {
   "cell_type": "markdown",
   "id": "b0b68875",
   "metadata": {},
   "source": [
    "Balok"
   ]
  },
  {
   "cell_type": "code",
   "execution_count": 12,
   "id": "9d6a0396",
   "metadata": {},
   "outputs": [
    {
     "name": "stdout",
     "output_type": "stream",
     "text": [
      "Input Nilai Panjang : 10\n",
      "Input Nilai Lebar : 5\n",
      "Input Nilai Tinggi : 15\n",
      "Luas Balok : 550.0 cm2\n",
      "Keliling Balok : 750.0 cm\n"
     ]
    }
   ],
   "source": [
    "p = float(input(\"Input Nilai Panjang : \"))\n",
    "l = float(input(\"Input Nilai Lebar : \"))\n",
    "t = float(input(\"Input Nilai Tinggi : \"))\n",
    "\n",
    "luas = 2 * (p*l + p*t + l*t )\n",
    "volume = p * l * t\n",
    "\n",
    "print(f\"Luas Balok : {luas} cm2\")\n",
    "print(f\"Volume Balok : {volume} cm\")"
   ]
  },
  {
   "cell_type": "markdown",
   "id": "7d254b73",
   "metadata": {},
   "source": [
    "Tabung"
   ]
  },
  {
   "cell_type": "code",
   "execution_count": 3,
   "id": "9ca2e2b0",
   "metadata": {},
   "outputs": [
    {
     "name": "stdout",
     "output_type": "stream",
     "text": [
      "Input Nilai Jari-jari : 5\n",
      "Input Nilai Tinggi : 15\n",
      "Luas Tabung : 2355.0 cm2\n",
      "Volume Tabung : 1177.5 cm\n"
     ]
    }
   ],
   "source": [
    "r = float(input(\"Input Nilai Jari-jari : \"))\n",
    "t = float(input(\"Input Nilai Tinggi : \"))\n",
    "\n",
    "phi = 3.14\n",
    "luas = 2 * phi * r * (t * r)\n",
    "volume = phi * r * r * t\n",
    "\n",
    "print(f\"Luas Tabung : {luas} cm2\")\n",
    "print(f\"Volume Tabung : {volume} cm\")"
   ]
  },
  {
   "cell_type": "code",
   "execution_count": null,
   "id": "0f8b8037",
   "metadata": {},
   "outputs": [],
   "source": []
  }
 ],
 "metadata": {
  "kernelspec": {
   "display_name": "Python 3 (ipykernel)",
   "language": "python",
   "name": "python3"
  },
  "language_info": {
   "codemirror_mode": {
    "name": "ipython",
    "version": 3
   },
   "file_extension": ".py",
   "mimetype": "text/x-python",
   "name": "python",
   "nbconvert_exporter": "python",
   "pygments_lexer": "ipython3",
   "version": "3.7.0"
  }
 },
 "nbformat": 4,
 "nbformat_minor": 5
}
